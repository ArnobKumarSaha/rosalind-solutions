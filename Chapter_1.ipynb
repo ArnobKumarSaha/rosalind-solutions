{
  "nbformat": 4,
  "nbformat_minor": 0,
  "metadata": {
    "colab": {
      "name": "Chapter 1.ipynb",
      "provenance": [],
      "authorship_tag": "ABX9TyNQ6uRRZIu/k2b3Fqacd2Fl",
      "include_colab_link": true
    },
    "kernelspec": {
      "name": "python3",
      "display_name": "Python 3"
    },
    "language_info": {
      "name": "python"
    }
  },
  "cells": [
    {
      "cell_type": "markdown",
      "metadata": {
        "id": "view-in-github",
        "colab_type": "text"
      },
      "source": [
        "<a href=\"https://colab.research.google.com/github/ArnobKumarSaha/rosalind-solutions/blob/master/Chapter_1.ipynb\" target=\"_parent\"><img src=\"https://colab.research.google.com/assets/colab-badge.svg\" alt=\"Open In Colab\"/></a>"
      ]
    },
    {
      "cell_type": "markdown",
      "metadata": {
        "id": "s_Ni9aARpILh"
      },
      "source": [
        "1A. Compute the Number of Times a Pattern Appears in a Text "
      ]
    },
    {
      "cell_type": "code",
      "metadata": {
        "colab": {
          "base_uri": "https://localhost:8080/"
        },
        "id": "YjPPW0ePeO1h",
        "outputId": "aa0c3676-72a9-4b90-ba4d-a623266e514e"
      },
      "source": [
        "text = 'GCGCG'\n",
        "pattern = 'GCG'\n",
        "cnt = 0\n",
        "\n",
        "for i in range(len(text)-len(pattern)+1):\n",
        "  s = text[i:i+len(pattern)]\n",
        "  if s == pattern:\n",
        "    cnt+=1\n",
        "print(cnt)"
      ],
      "execution_count": null,
      "outputs": [
        {
          "output_type": "stream",
          "text": [
            "2\n"
          ],
          "name": "stdout"
        }
      ]
    },
    {
      "cell_type": "markdown",
      "metadata": {
        "id": "ptPS7ibno9eI"
      },
      "source": [
        "1B. Find the Most Frequent Words in a String "
      ]
    },
    {
      "cell_type": "code",
      "metadata": {
        "colab": {
          "base_uri": "https://localhost:8080/"
        },
        "id": "z7XZL7Dee2ZP",
        "outputId": "5f5d0f14-f3cd-433f-9f21-23e6bde6e675"
      },
      "source": [
        "text = 'ACGTTGCATGTCGCATGATGCATGAGAGCT'\n",
        "k = 4\n",
        "cnt = {}\n",
        "\n",
        "for i in range(len(text)-k + 1):\n",
        "  s = text[i:i+k]\n",
        "  if s in cnt:\n",
        "    cnt[s] += 1\n",
        "  else:\n",
        "    cnt[s] = 1\n",
        "\n",
        "ans = []\n",
        "curCnt = 0\n",
        "\n",
        "for x,y in cnt.items():\n",
        "  if curCnt < y:\n",
        "    curCnt = y\n",
        "\n",
        "for x,y in cnt.items():\n",
        "  if curCnt == y:\n",
        "    ans.append(x)\n",
        "\n",
        "print(ans)"
      ],
      "execution_count": null,
      "outputs": [
        {
          "output_type": "stream",
          "text": [
            "['GCAT', 'CATG']\n"
          ],
          "name": "stdout"
        }
      ]
    },
    {
      "cell_type": "markdown",
      "metadata": {
        "id": "t8th9GIuo99B"
      },
      "source": [
        "1C. \tFind the Reverse Complement of a String "
      ]
    },
    {
      "cell_type": "code",
      "metadata": {
        "colab": {
          "base_uri": "https://localhost:8080/"
        },
        "id": "rgWSAXgFqlen",
        "outputId": "2ecc6002-62d4-42a4-d7c2-a825fc889c4a"
      },
      "source": [
        "text = 'AAAACCCGGT'\n",
        "\n",
        "rev = text[::-1]\n",
        "\n",
        "mp = {}\n",
        "mp['T'] = 'A'\n",
        "mp['A'] = 'T'\n",
        "mp['G'] = 'C'\n",
        "mp['C'] = 'G'\n",
        "\n",
        "reverseComplement = \"\"\n",
        "\n",
        "for i in range( len(text) ):\n",
        "  x = mp.get( rev[i] )\n",
        "  reverseComplement += x\n",
        "\n",
        "print(\"The reverse complement of \", text, \" is \", reverseComplement)  "
      ],
      "execution_count": null,
      "outputs": [
        {
          "output_type": "stream",
          "text": [
            "The reverse complement of  AAAACCCGGT  is  ACCGGGTTTT\n"
          ],
          "name": "stdout"
        }
      ]
    },
    {
      "cell_type": "markdown",
      "metadata": {
        "id": "fXK7QDyBo_BI"
      },
      "source": [
        "1D. \tFind All Occurrences of a Pattern in a String "
      ]
    },
    {
      "cell_type": "code",
      "metadata": {
        "colab": {
          "base_uri": "https://localhost:8080/"
        },
        "id": "5zC_IcTgkL51",
        "outputId": "1cec5963-3870-4d03-c1c3-ca090f7fb9b5"
      },
      "source": [
        "pattern = 'ATAT'\n",
        "text = 'GATATATGCATATACTT'\n",
        "ans = []\n",
        "\n",
        "for i in range(len(text)-len(pattern)+1):\n",
        "  s = text[i:i+len(pattern)]\n",
        "  if s == pattern:\n",
        "    ans.append(i)\n",
        "\n",
        "print(ans)"
      ],
      "execution_count": null,
      "outputs": [
        {
          "output_type": "stream",
          "text": [
            "[1, 3, 9]\n"
          ],
          "name": "stdout"
        }
      ]
    },
    {
      "cell_type": "markdown",
      "metadata": {
        "id": "6_2AtQN7o_Zn"
      },
      "source": [
        "\n",
        "1E.\tFind Patterns Forming Clumps in a String "
      ]
    },
    {
      "cell_type": "code",
      "metadata": {
        "colab": {
          "base_uri": "https://localhost:8080/"
        },
        "id": "kWA0XscJtY5G",
        "outputId": "8eda321e-db89-4ad9-ea19-abf5363007df"
      },
      "source": [
        "'''\n",
        "text = input('Enter the DNA string')\n",
        "k = int(input('Length of substrings : '))\n",
        "L = int(input('Length of the finding area '))\n",
        "T = int(input('minimum number of occurance '))\n",
        "'''\n",
        "text = 'CGGACTCGACAGATGTGAAGAAATGTGAAGACTGAGTGAAGAGAAGAGGAAACACGACACGACATTGCGACATAATGTACGAATGTAATGTGCCTATGGC'\n",
        "k = 5\n",
        "L = 75\n",
        "T = 4\n",
        "\n",
        "n = len(text)\n",
        "\n",
        "def TEXT(i):\n",
        "  s = text[i:]\n",
        "  return s[:L]\n",
        "\n",
        "freqMap = {}\n",
        "shorterString = ''\n",
        "\n",
        "def makeTheFrequencyMap():\n",
        "  global freqMap\n",
        "  freqMap = {}\n",
        "  for i in range(L-k+1):\n",
        "    s = shorterString[i:]\n",
        "    s = s[:k]\n",
        "    if s in freqMap:\n",
        "      freqMap[s] = freqMap[s] + 1\n",
        "    else:\n",
        "      freqMap[s] = 1\n",
        "\n",
        "ans = []\n",
        "for i in range(n-k+1):\n",
        "  global shorterString\n",
        "  shorterString = TEXT(i)\n",
        "  makeTheFrequencyMap()\n",
        "  global freqMap\n",
        "  for k_mer,occ in freqMap.items():\n",
        "    if occ >= T:\n",
        "      ans.append(k_mer)\n",
        "\n",
        "ans = set(ans)\n",
        "print('All distinct k-mers forming (L, t)-clumps are ', end = ' ')\n",
        "for item in ans:\n",
        "  print(item, end=' ')"
      ],
      "execution_count": null,
      "outputs": [
        {
          "output_type": "stream",
          "text": [
            "All distinct k-mers forming (L, t)-clumps are   GAAGA AATGT CGACA "
          ],
          "name": "stdout"
        }
      ]
    },
    {
      "cell_type": "markdown",
      "metadata": {
        "id": "Ec5-PhB1pATd"
      },
      "source": [
        "1F.\tFind a Position in a Genome Minimizing the Skew "
      ]
    },
    {
      "cell_type": "code",
      "metadata": {
        "colab": {
          "base_uri": "https://localhost:8080/"
        },
        "id": "F0fX6fmrtEqk",
        "outputId": "fa68799e-73b5-4ecf-a86d-9e5e3da9de98"
      },
      "source": [
        "\n",
        "text = 'CCTATCGGTGGATTAGCATGTCCCTGTACGTTTCGCCGCGAACTAGTTCACACGGCTTGATGGCAAATGGTTTTTCCGGCGACCGTAATCGTCCACCGAG'\n",
        "cnt = []\n",
        "n = len(text)\n",
        "\n",
        "def makeSkewArray():\n",
        "  for i in range(n):\n",
        "    add = 0\n",
        "    if text[i]=='G':\n",
        "      add = 1;\n",
        "    elif text[i]=='C':\n",
        "      add = -1\n",
        "    cnt.append(0)\n",
        "    if i==0:\n",
        "      cnt[i] = add\n",
        "    else:\n",
        "      cnt[i] = cnt[i-1] + add\n",
        "\n",
        "def calculate():\n",
        "  minValue = n\n",
        "  for i in cnt:\n",
        "    minValue = min(minValue, i)\n",
        "  id = 0\n",
        "  for i in cnt:\n",
        "    id += 1\n",
        "    if i==minValue:\n",
        "      print(id, end=' ')\n",
        "\n",
        "makeSkewArray()\n",
        "calculate()\n"
      ],
      "execution_count": null,
      "outputs": [
        {
          "output_type": "stream",
          "text": [
            "53 97 "
          ],
          "name": "stdout"
        }
      ]
    },
    {
      "cell_type": "markdown",
      "metadata": {
        "id": "zSQ-42jao4AM"
      },
      "source": [
        "1G.\tCompute the Hamming Distance Between Two Strings "
      ]
    },
    {
      "cell_type": "code",
      "metadata": {
        "colab": {
          "base_uri": "https://localhost:8080/"
        },
        "id": "Fc25tiFQq12g",
        "outputId": "3e709bb7-41f4-4720-e5f0-c51845c9b9ad"
      },
      "source": [
        "s1 = 'GGGCCGTTGGT'\n",
        "s2 = 'GGACCGTTGAC'\n",
        "\n",
        "if len(s1) > len(s2):\n",
        "  swap(s1,s2)\n",
        "\n",
        "count=0\n",
        "\n",
        "for i in range(len(s1)):\n",
        "  if s1[i] != s2[i]:\n",
        "    count+=1\n",
        "\n",
        "count += len(s2) - len(s1)\n",
        "\n",
        "print('Hamming distance of ', s1, ' and ', s2, ' is ', count)"
      ],
      "execution_count": null,
      "outputs": [
        {
          "output_type": "stream",
          "text": [
            "Hamming distance of  GGGCCGTTGGT  and  GGACCGTTGAC  is  3\n"
          ],
          "name": "stdout"
        }
      ]
    },
    {
      "cell_type": "markdown",
      "metadata": {
        "id": "HfMu9nFCpdqk"
      },
      "source": [
        "1H.\tFind All Approximate Occurrences of a Pattern in a String "
      ]
    },
    {
      "cell_type": "code",
      "metadata": {
        "colab": {
          "base_uri": "https://localhost:8080/"
        },
        "id": "rMECLdhQrXZp",
        "outputId": "f3df2d5f-12a4-49b7-8f79-18aeda885e01"
      },
      "source": [
        "pattern = 'ATTCTGGA'\n",
        "text = 'CGCCCGAATCCAGAACGCATTCCCATATTTCGGGACCACTGGCCTCCACGGTACGGACGTCAATCAAATGCCTAGCGGCTTGTGGTTTCTCCTACGCTCC'\n",
        "n = len(text)\n",
        "p_len = len(pattern)\n",
        "d = 3\n",
        "\n",
        "occurance = []\n",
        "\n",
        "for i in range(n-p_len+1):\n",
        "  count = 0\n",
        "  for j in range(p_len):\n",
        "    if pattern[j] != text[i+j]:\n",
        "      count += 1\n",
        "  if count <= d:\n",
        "    occurance.append(i)\n",
        "\n",
        "for i in occurance:\n",
        "  print(i, end=' ')"
      ],
      "execution_count": null,
      "outputs": [
        {
          "output_type": "stream",
          "text": [
            "6 7 26 27 78 "
          ],
          "name": "stdout"
        }
      ]
    },
    {
      "cell_type": "markdown",
      "metadata": {
        "id": "8RD1xDtypdla"
      },
      "source": [
        "1I.\tFind the Most Frequent Words with Mismatches in a String "
      ]
    },
    {
      "cell_type": "code",
      "metadata": {
        "colab": {
          "base_uri": "https://localhost:8080/"
        },
        "id": "f_ZiaO_KrlyS",
        "outputId": "3c627747-fffe-47c5-a88f-39d72889b0e3"
      },
      "source": [
        "text = 'ACGTTGCATGTCGCATGATGCATGAGAGCT'\n",
        "k = 4\n",
        "d = 1\n",
        "\n",
        "# For taking input uncomment it.\n",
        "'''\n",
        "text = input('Enter your text : ')\n",
        "k = int(input('Enter length of the pattern '))\n",
        "d = int(input('Enter Maximum Mismatch number '))\n",
        "'''\n",
        "\n",
        "n = len(text)\n",
        "\n",
        "def Text(i,k):\n",
        "  s = text[i:]\n",
        "  s = s[:k]\n",
        "  return s\n",
        "\n",
        "neighborhood = []\n",
        "pattern = ''\n",
        "possibleCharacter = ['A', 'T', 'G', 'C']\n",
        "\n",
        "# Finding the neighbors.\n",
        "def rec(indx, chng, s):\n",
        "  if chng<0 or indx>k:\n",
        "    return\n",
        "  if indx == k:\n",
        "    neighborhood.append(s)\n",
        "    return\n",
        "  for char in possibleCharacter:\n",
        "    if chng>0 and pattern[indx] != char :\n",
        "      rec(indx+1, chng-1, s+char) # By spending another one change\n",
        "    if pattern[indx] == char :\n",
        "      rec(indx+1, chng, s+char)  # In case of , matched character\n",
        "  \n",
        "\n",
        "Patterns = []\n",
        "freqMap = {}\n",
        "substringMap = {}\n",
        "\n",
        "def MaxMap(freqMap):\n",
        "  mx = 0\n",
        "  for item in freqMap.values():\n",
        "    mx = max(mx, item)\n",
        "  return mx\n",
        "\n",
        "# Actual calculation starts here.\n",
        "\n",
        "for i in range(n-k+1):\n",
        "    global Pattern \n",
        "    pattern = Text(i, k)\n",
        "    substringMap[pattern] = True\n",
        "    global neighborhood\n",
        "    neighborhood = []\n",
        "    rec(0, d, '')\n",
        "    for neighbor in neighborhood:\n",
        "        if neighbor not in freqMap:\n",
        "            freqMap[neighbor] = 1\n",
        "        else:\n",
        "            freqMap[neighbor] = freqMap[neighbor] + 1\n",
        "m = MaxMap(freqMap)\n",
        "for Pattern in freqMap:\n",
        "    if freqMap[Pattern] == m:\n",
        "        Patterns.append(Pattern)\n",
        "\n",
        "print(Patterns)"
      ],
      "execution_count": null,
      "outputs": [
        {
          "output_type": "stream",
          "text": [
            "['ATGT', 'GATG', 'ATGC']\n"
          ],
          "name": "stdout"
        }
      ]
    },
    {
      "cell_type": "markdown",
      "metadata": {
        "id": "pCrFVYRfpdjG"
      },
      "source": [
        "1J \tFind Frequent Words with Mismatches and Reverse Complements "
      ]
    },
    {
      "cell_type": "code",
      "metadata": {
        "colab": {
          "base_uri": "https://localhost:8080/"
        },
        "id": "SDXDr6nKr0kF",
        "outputId": "c66d6b49-931f-40df-a6f0-be9993049bfe"
      },
      "source": [
        "import itertools\n",
        "from collections import defaultdict as dict\n",
        "\n",
        "text = 'ACGTTGCATGTCGCATGATGCATGAGAGCT'\n",
        "k = 4\n",
        "d = 1\n",
        "\n",
        "def ReverseComplement(s):\n",
        "  mp = {}\n",
        "  mp['A'] = 'T'\n",
        "  mp['T'] = 'A'\n",
        "  mp['G'] = 'C'\n",
        "  mp['C'] = 'G'\n",
        "  s = s[::-1]\n",
        "  res = ''\n",
        "  for idx,ltr in enumerate(s):\n",
        "    res += mp[ltr]\n",
        "  return res\n",
        "\n",
        "all_possible = map(\"\".join, itertools.product('ACGT', repeat=k)) # generate 4^k strings\n",
        "\n",
        "k_mers_list = []\n",
        "tmp = []\n",
        "for i in range(len(text)-k+1):\n",
        "  k_mers_list.append( text[i:i+k] )\n",
        "  tmp.append( text[i: i+k] )\n",
        "for i,st in enumerate(tmp):\n",
        "  k_mers_list.append( ReverseComplement(st) )\n",
        "# all k-length substrings and their reverse complements are in k_mers_list\n",
        "\n",
        "def distance(a,b):\n",
        "  count = 0\n",
        "  for i in range(len(a)):\n",
        "    if(a[i] != b[i]):\n",
        "      count +=1\n",
        "    if(count>d):\n",
        "      return False\n",
        "  return True\n",
        "\n",
        "mis_patterns=dict(list)\n",
        "\n",
        "mx_count = 0\n",
        "\n",
        "for i,ptrn in enumerate(all_possible):\n",
        "  count = 0\n",
        "  for j,kmer in enumerate(k_mers_list):\n",
        "    if( distance(ptrn,kmer) ):\n",
        "      count+=1\n",
        "  mis_patterns[ptrn]=count\n",
        "  if count>0 and count>mx_count:\n",
        "    mx_count = count\n",
        "\n",
        "for i,p in enumerate(mis_patterns):\n",
        "  if mis_patterns[p]==mx_count:\n",
        "    print(p, end = ', ')"
      ],
      "execution_count": null,
      "outputs": [
        {
          "output_type": "stream",
          "text": [
            "defaultdict(<class 'list'>, {'AAAA': 0, 'AAAC': 1, 'AAAG': 2, 'AAAT': 1, 'AACA': 3, 'AACC': 1, 'AACG': 1, 'AACT': 3, 'AAGA': 3, 'AAGC': 5, 'AAGG': 1, 'AAGT': 3, 'AATA': 0, 'AATC': 1, 'AATG': 8, 'AATT': 0, 'ACAA': 2, 'ACAC': 1, 'ACAG': 2, 'ACAT': 9, 'ACCA': 1, 'ACCC': 0, 'ACCG': 1, 'ACCT': 5, 'ACGA': 5, 'ACGC': 7, 'ACGG': 2, 'ACGT': 4, 'ACTA': 0, 'ACTC': 2, 'ACTG': 0, 'ACTT': 3, 'AGAA': 1, 'AGAC': 2, 'AGAG': 2, 'AGAT': 5, 'AGCA': 8, 'AGCC': 2, 'AGCG': 5, 'AGCT': 2, 'AGGA': 2, 'AGGC': 4, 'AGGG': 1, 'AGGT': 5, 'AGTA': 0, 'AGTC': 1, 'AGTG': 1, 'AGTT': 3, 'ATAA': 3, 'ATAC': 4, 'ATAG': 1, 'ATAT': 2, 'ATCA': 4, 'ATCC': 5, 'ATCG': 3, 'ATCT': 5, 'ATGA': 8, 'ATGC': 8, 'ATGG': 7, 'ATGT': 9, 'ATTA': 3, 'ATTC': 4, 'ATTG': 1, 'ATTT': 1, 'CAAA': 1, 'CAAC': 3, 'CAAG': 7, 'CAAT': 1, 'CACA': 3, 'CACC': 2, 'CACG': 7, 'CACT': 1, 'CAGA': 1, 'CAGC': 3, 'CAGG': 6, 'CAGT': 0, 'CATA': 7, 'CATC': 8, 'CATG': 8, 'CATT': 8, 'CCAA': 1, 'CCAC': 2, 'CCAG': 0, 'CCAT': 7, 'CCCA': 2, 'CCCC': 0, 'CCCG': 0, 'CCCT': 1, 'CCGA': 1, 'CCGC': 1, 'CCGG': 0, 'CCGT': 2, 'CCTA': 0, 'CCTC': 3, 'CCTG': 6, 'CCTT': 1, 'CGAA': 2, 'CGAC': 2, 'CGAG': 3, 'CGAT': 3, 'CGCA': 6, 'CGCC': 2, 'CGCG': 2, 'CGCT': 5, 'CGGA': 1, 'CGGC': 1, 'CGGG': 0, 'CGGT': 1, 'CGTA': 2, 'CGTC': 4, 'CGTG': 7, 'CGTT': 1, 'CTAA': 1, 'CTAC': 2, 'CTAG': 0, 'CTAT': 1, 'CTCA': 4, 'CTCC': 2, 'CTCG': 3, 'CTCT': 2, 'CTGA': 3, 'CTGC': 5, 'CTGG': 0, 'CTGT': 2, 'CTTA': 1, 'CTTC': 1, 'CTTG': 7, 'CTTT': 2, 'GAAA': 3, 'GAAC': 2, 'GAAG': 1, 'GAAT': 4, 'GACA': 2, 'GACC': 2, 'GACG': 4, 'GACT': 1, 'GAGA': 4, 'GAGC': 2, 'GAGG': 3, 'GAGT': 2, 'GATA': 3, 'GATC': 4, 'GATG': 8, 'GATT': 1, 'GCAA': 6, 'GCAC': 6, 'GCAG': 5, 'GCAT': 8, 'GCCA': 3, 'GCCC': 1, 'GCCG': 1, 'GCCT': 4, 'GCGA': 3, 'GCGC': 4, 'GCGG': 1, 'GCGT': 7, 'GCTA': 3, 'GCTC': 2, 'GCTG': 3, 'GCTT': 5, 'GGAA': 1, 'GGAC': 1, 'GGAG': 2, 'GGAT': 5, 'GGCA': 6, 'GGCC': 0, 'GGCG': 2, 'GGCT': 2, 'GGGA': 2, 'GGGC': 1, 'GGGG': 0, 'GGGT': 0, 'GGTA': 0, 'GGTC': 2, 'GGTG': 2, 'GGTT': 1, 'GTAA': 1, 'GTAC': 0, 'GTAG': 2, 'GTAT': 4, 'GTCA': 4, 'GTCC': 1, 'GTCG': 2, 'GTCT': 2, 'GTGA': 4, 'GTGC': 6, 'GTGG': 2, 'GTGT': 1, 'GTTA': 1, 'GTTC': 2, 'GTTG': 3, 'GTTT': 1, 'TAAA': 0, 'TAAC': 1, 'TAAG': 1, 'TAAT': 3, 'TACA': 5, 'TACC': 0, 'TACG': 2, 'TACT': 0, 'TAGA': 1, 'TAGC': 3, 'TAGG': 0, 'TAGT': 0, 'TATA': 0, 'TATC': 3, 'TATG': 7, 'TATT': 0, 'TCAA': 3, 'TCAC': 4, 'TCAG': 3, 'TCAT': 8, 'TCCA': 4, 'TCCC': 2, 'TCCG': 1, 'TCCT': 2, 'TCGA': 2, 'TCGC': 3, 'TCGG': 1, 'TCGT': 5, 'TCTA': 1, 'TCTC': 4, 'TCTG': 1, 'TCTT': 3, 'TGAA': 6, 'TGAC': 4, 'TGAG': 4, 'TGAT': 4, 'TGCA': 6, 'TGCC': 6, 'TGCG': 6, 'TGCT': 8, 'TGGA': 4, 'TGGC': 3, 'TGGG': 2, 'TGGT': 1, 'TGTA': 5, 'TGTC': 2, 'TGTG': 3, 'TGTT': 3, 'TTAA': 0, 'TTAC': 1, 'TTAG': 1, 'TTAT': 3, 'TTCA': 6, 'TTCC': 1, 'TTCG': 2, 'TTCT': 1, 'TTGA': 3, 'TTGC': 6, 'TTGG': 1, 'TTGT': 2, 'TTTA': 0, 'TTTC': 3, 'TTTG': 1, 'TTTT': 0})\n",
            "ACAT, ATGT, "
          ],
          "name": "stdout"
        }
      ]
    },
    {
      "cell_type": "markdown",
      "metadata": {
        "id": "sddxw-ubpdgk"
      },
      "source": [
        "1K.\tGenerate the Frequency Array of a String "
      ]
    },
    {
      "cell_type": "code",
      "metadata": {
        "colab": {
          "base_uri": "https://localhost:8080/"
        },
        "id": "ekRMPxJp0Nxn",
        "outputId": "4c35f118-a2c6-4d9d-d9f3-ac8023dda3f0"
      },
      "source": [
        "import itertools\n",
        "from collections import defaultdict as dict\n",
        "\n",
        "text = 'ACGCGGCTCTGAAA'\n",
        "k = 2\n",
        "n = len(text)\n",
        "all_possible = map(\"\".join, itertools.product('ACGT', repeat=k)) # generate 4^k strings\n",
        "ans = []\n",
        "\n",
        "for ptrn in all_possible:\n",
        "  cnt = 0\n",
        "  for i in range(n-k+1):\n",
        "    s = text[i:i+k]\n",
        "    if s == ptrn:\n",
        "      cnt+=1\n",
        "  ans.append(cnt)\n",
        "  print(cnt, end=' ')"
      ],
      "execution_count": null,
      "outputs": [
        {
          "output_type": "stream",
          "text": [
            "2 1 0 0 0 0 2 2 1 2 1 0 0 1 1 0 "
          ],
          "name": "stdout"
        }
      ]
    },
    {
      "cell_type": "markdown",
      "metadata": {
        "id": "7V0eA4h0pdd8"
      },
      "source": [
        "1L.\tImplement PatternToNumber "
      ]
    },
    {
      "cell_type": "code",
      "metadata": {
        "colab": {
          "base_uri": "https://localhost:8080/"
        },
        "id": "mQ-daJSrsIGw",
        "outputId": "b0c6ce5c-50fc-4616-b122-945eaee53c8c"
      },
      "source": [
        "text = 'AGT'\n",
        "ans = 0\n",
        "val = {}\n",
        "val['A'] = 0\n",
        "val['C'] = 1\n",
        "val['G'] = 2\n",
        "val['T'] = 3\n",
        "for i in range(len(text)):\n",
        "  j = len(text) - i - 1\n",
        "  ans += val[ text[i] ] * pow(4, j)\n",
        "print('The value of ', text, ' is ', ans)"
      ],
      "execution_count": null,
      "outputs": [
        {
          "output_type": "stream",
          "text": [
            "The value of  AGT  is  11\n"
          ],
          "name": "stdout"
        }
      ]
    },
    {
      "cell_type": "markdown",
      "metadata": {
        "id": "ZcpTiFNcpdbr"
      },
      "source": [
        "1M.\tImplement NumberToPattern "
      ]
    },
    {
      "cell_type": "code",
      "metadata": {
        "colab": {
          "base_uri": "https://localhost:8080/"
        },
        "id": "3TdoccAisP_I",
        "outputId": "0a10daad-1a16-4fc1-ab44-0b13a9d29502"
      },
      "source": [
        "integer = 45\n",
        "k = 4\n",
        "\n",
        "store = integer\n",
        "ans = ''\n",
        "val = {}\n",
        "val[0] = 'A'\n",
        "val[1] = 'C'\n",
        "val[2] = 'G'\n",
        "val[3] = 'T'\n",
        "\n",
        "for i in range(k):\n",
        "  j = k-1 - i\n",
        "  j = pow(4,j)\n",
        "  quotient = int(integer / j)\n",
        "  integer = integer % j\n",
        "  ans += val[quotient]\n",
        "print('The ',k,' length string of value ',store, ' is ', ans)"
      ],
      "execution_count": null,
      "outputs": [
        {
          "output_type": "stream",
          "text": [
            "The  4  length string of value  45  is  AGTC\n"
          ],
          "name": "stdout"
        }
      ]
    },
    {
      "cell_type": "markdown",
      "metadata": {
        "id": "gFUfZSyrpdZK"
      },
      "source": [
        "1N.\tGenerate the d-Neighborhood of a String "
      ]
    },
    {
      "cell_type": "code",
      "metadata": {
        "colab": {
          "base_uri": "https://localhost:8080/"
        },
        "id": "3MUklrjW2dgx",
        "outputId": "31203b3a-3576-4be2-9ca2-e28e9609466e"
      },
      "source": [
        "neighborhood = []\n",
        "pattern = 'ACG'\n",
        "possibleCharacter = ['A', 'T', 'G', 'C']\n",
        "d = 1\n",
        "\n",
        "# Finding the neighbors.\n",
        "def rec(indx, chng, s):\n",
        "  if chng<0 or indx>len(pattern):\n",
        "    return\n",
        "  if indx == len(pattern):\n",
        "    neighborhood.append(s)\n",
        "    return\n",
        "  for char in possibleCharacter:\n",
        "    if chng>0 and pattern[indx] != char :\n",
        "      rec(indx+1, chng-1, s+char) # By spending another one change\n",
        "    if pattern[indx] == char :\n",
        "      rec(indx+1, chng, s+char)  # In case of , matched character\n",
        "\n",
        "rec(0,d,'')\n",
        "for i in neighborhood:\n",
        "  print(i)"
      ],
      "execution_count": null,
      "outputs": [
        {
          "output_type": "stream",
          "text": [
            "AAG\n",
            "ATG\n",
            "AGG\n",
            "ACA\n",
            "ACT\n",
            "ACG\n",
            "ACC\n",
            "TCG\n",
            "GCG\n",
            "CCG\n"
          ],
          "name": "stdout"
        }
      ]
    }
  ]
}