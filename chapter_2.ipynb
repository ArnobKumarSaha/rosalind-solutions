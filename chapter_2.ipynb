{
  "nbformat": 4,
  "nbformat_minor": 0,
  "metadata": {
    "colab": {
      "name": "chapter 2.ipynb",
      "provenance": [],
      "collapsed_sections": [],
      "authorship_tag": "ABX9TyPnwriznxCypmeof+ECP9/c",
      "include_colab_link": true
    },
    "kernelspec": {
      "name": "python3",
      "display_name": "Python 3"
    },
    "language_info": {
      "name": "python"
    }
  },
  "cells": [
    {
      "cell_type": "markdown",
      "metadata": {
        "id": "view-in-github",
        "colab_type": "text"
      },
      "source": [
        "<a href=\"https://colab.research.google.com/github/ArnobKumarSaha/rosalind-solutions/blob/master/chapter_2.ipynb\" target=\"_parent\"><img src=\"https://colab.research.google.com/assets/colab-badge.svg\" alt=\"Open In Colab\"/></a>"
      ]
    },
    {
      "cell_type": "markdown",
      "metadata": {
        "id": "Riy_SOVVPIVA"
      },
      "source": [
        "2A.\tImplement MotifEnumeration "
      ]
    },
    {
      "cell_type": "code",
      "metadata": {
        "colab": {
          "base_uri": "https://localhost:8080/"
        },
        "id": "GEDtS3eSBze7",
        "outputId": "e2c59bf9-a019-4c60-e456-021ca73b1624"
      },
      "source": [
        "# Recursive approach to generate all possible substrings of length k\n",
        "letter = ['A', 'T' ,'G' ,'C']\n",
        "k = 3\n",
        "text = ['ATTTGGC','TGCCTTA','CGGTATC','GAAAATT']\n",
        "d = 1\n",
        "patterns = []\n",
        "def rec(pos, st):\n",
        "  if pos==k:\n",
        "    #print(st, end=' ')\n",
        "    patterns.append(st)\n",
        "    return\n",
        "  for i in range( len(letter)):\n",
        "    rec(pos+1, str(st + letter[i]))\n",
        "\n",
        "rec(0,\"\")\n",
        "\n",
        "def Distance(p,s):\n",
        "  n = len(p)\n",
        "  d = 0\n",
        "  for i in range(n):\n",
        "    if p[i] != s[i]:\n",
        "      d += 1\n",
        "  return d\n",
        "\n",
        "\n",
        "def isIt_a_KD_motif(pattern):\n",
        "  for dna in text:\n",
        "    minDistance = k\n",
        "    for i in range(len(dna)-k+1):\n",
        "      s = dna[i:i+k]\n",
        "      minDistance = min(minDistance, Distance(s,pattern))\n",
        "    if minDistance > d:\n",
        "      return False\n",
        "  return True\n",
        "\n",
        "ans = []\n",
        "for pattern in patterns:\n",
        "  if isIt_a_KD_motif(pattern):\n",
        "    ans.append(pattern)\n",
        "\n",
        "print(\"Motifs are \", ans)"
      ],
      "execution_count": null,
      "outputs": [
        {
          "output_type": "stream",
          "text": [
            "Motifs are  ['ATA', 'ATT', 'TTT', 'GTT']\n"
          ],
          "name": "stdout"
        }
      ]
    },
    {
      "cell_type": "markdown",
      "metadata": {
        "id": "nUpnubPpPK6G"
      },
      "source": [
        "2B.\tFind a Median String "
      ]
    },
    {
      "cell_type": "code",
      "metadata": {
        "colab": {
          "base_uri": "https://localhost:8080/"
        },
        "id": "LbWTohQAP9yJ",
        "outputId": "965574bd-9b27-4122-9182-3dd7e5a73172"
      },
      "source": [
        "\n",
        "k = 3\n",
        "strings = ['AAATTGACGCAT' ,'GACGACCACGTT', 'CGTCAGCGCCTG' , 'GCTGAGCACCGG', 'AGTACGGGACAG']\n",
        "\n",
        "# Recursive approach to generate all possible substrings of length k\n",
        "letter = ['A', 'T' ,'G' ,'C']\n",
        "patterns = []\n",
        "def rec(pos, st):\n",
        "  if pos==k:\n",
        "    #print(st, end=' ')\n",
        "    patterns.append(st)\n",
        "    return\n",
        "  for i in range( len(letter)):\n",
        "    rec(pos+1, str(st + letter[i]))\n",
        "\n",
        "rec(0,\"\")\n",
        "\n",
        "def Distance(p,s):\n",
        "  n = len(p)\n",
        "  d = 0\n",
        "  for i in range(n):\n",
        "    if p[i] != s[i]:\n",
        "      d += 1\n",
        "  return d\n",
        "\n",
        "def compare(id,pattern):\n",
        "  ret = 1000000\n",
        "  st = strings[id]\n",
        "  for i in range(len(st) - k+1):\n",
        "    s = st[i:]\n",
        "    s = s[:k]\n",
        "    ret = min(ret, Distance(pattern, s) )\n",
        "  return ret\n",
        "\n",
        "minimumHammingDistance = 10000000\n",
        "ansString = ''\n",
        "\n",
        "for pattern in patterns:\n",
        "  totalHammingDistance = 0\n",
        "  for i in range(len(strings)):\n",
        "    totalHammingDistance += compare(i, pattern)\n",
        "  if minimumHammingDistance > totalHammingDistance:\n",
        "    minimumHammingDistance = totalHammingDistance\n",
        "    ansString = pattern\n",
        "\n",
        "print('Minimum Hamming distance is ', minimumHammingDistance)\n",
        "print('The string that make minimum hamming distance is ', ansString)"
      ],
      "execution_count": null,
      "outputs": [
        {
          "output_type": "stream",
          "text": [
            "Minimum Hamming distance is  2\n",
            "The string that make minimum hamming distance is  ACG\n"
          ],
          "name": "stdout"
        }
      ]
    },
    {
      "cell_type": "markdown",
      "metadata": {
        "id": "QcSAHX6rPOnR"
      },
      "source": [
        "2C.\tFind a Profile-most Probable k-mer in a String "
      ]
    },
    {
      "cell_type": "code",
      "metadata": {
        "colab": {
          "base_uri": "https://localhost:8080/"
        },
        "id": "uNkj5dUYQfaz",
        "outputId": "966737ce-a214-4148-c18f-968ae95dabed"
      },
      "source": [
        "\n",
        "x = []\n",
        "text = 'ACCTGTTTATTGCCTAAGTTCCGAACAAACCCAATATAGCCCGAGGGCCT'\n",
        "k = 5\n",
        "x.append([0.2, 0.2, 0.3, 0.2, 0.3])\n",
        "x.append([0.4, 0.3, 0.1, 0.5, 0.1])\n",
        "x.append([0.3, 0.3, 0.5, 0.2, 0.4])\n",
        "x.append([0.1, 0.2, 0.1, 0.1, 0.2])\n",
        "\n",
        "def calculate(s,k,x):\n",
        "  d = 1.0\n",
        "  for i in range(k):\n",
        "    if s[i]=='A':\n",
        "      d *= x[0][i]\n",
        "    if s[i]=='C':\n",
        "      d *= x[1][i]\n",
        "    if s[i]=='G':\n",
        "      d *= x[2][i]\n",
        "    if s[i]=='T':\n",
        "      d *= x[3][i]\n",
        "  return d\n",
        "\n",
        "\n",
        "def findKmer(text,k,x):\n",
        "  ans = 0.0\n",
        "  out = ''\n",
        "  for i in range(len(text)-k+1):\n",
        "    s = text[i: i+k]\n",
        "    d = calculate(s,k,x)\n",
        "    if d > ans:\n",
        "      ans = d\n",
        "      out = s\n",
        "  return ans,out\n",
        "\n",
        "\n",
        "ans, out = findKmer(text,k,x)\n",
        "print('Profile-most Probable k-mer is ', out, ', Its probality is', ans)"
      ],
      "execution_count": null,
      "outputs": [
        {
          "output_type": "stream",
          "text": [
            "Profile-most Probable k-mer is  CCGAG , Its probality is 0.0048000000000000004\n"
          ],
          "name": "stdout"
        }
      ]
    },
    {
      "cell_type": "markdown",
      "metadata": {
        "id": "6OlPRxyaPSxg"
      },
      "source": [
        "2D.\tImplement GreedyMotifSearch "
      ]
    },
    {
      "cell_type": "code",
      "metadata": {
        "id": "iRObwKlsTvpi",
        "colab": {
          "base_uri": "https://localhost:8080/"
        },
        "outputId": "a83456e0-72c9-4f4f-a16c-dfbe96e6c550"
      },
      "source": [
        "'''\n",
        "k = int(input('Length of the k-mers '))\n",
        "t = int(input('Number of DNA string '))\n",
        "\n",
        "Dna = []\n",
        "BestMotifs = []\n",
        "for i in range(t):\n",
        "  s = input()\n",
        "  Dna.append(s)\n",
        "  BestMotifs.append(s[:k])\n",
        "\n",
        "'''\n",
        "# This CodeBlock will use findkmer() & calculate() from above block.\n",
        "\n",
        "k = 3\n",
        "t = 5\n",
        "Dna = [ 'GGCGTTCAGGCA', 'AAGAATCAGTCA', 'CAAGGAGTTCGC', 'CACGTCAATCAC', 'CAATAATATTCG']\n",
        "BestMotifs = [ 'GGC', 'AAG', 'CAA', 'CAC', 'CAA']\n",
        "\n",
        "Motif_array =  [ '' for i in range(t) ]\n",
        "\n",
        " # Just compares the count of A, T, G, C. And returns whose count is maximum.\n",
        "def findMax(ca,cc,cg,ct): \n",
        "  mx = max( max(ca,cc), max(cg,ct) )\n",
        "  if mx==ca:\n",
        "    return 'A'\n",
        "  if mx==cc:\n",
        "    return 'C'\n",
        "  if mx==cg:\n",
        "    return 'G'\n",
        "  if mx==ct:\n",
        "    return 'T'\n",
        "\n",
        "# arr is t*k size er 2D array.\n",
        "def Score(arr):\n",
        "  length = len(Motif_array[0])\n",
        "  koyta = len(arr)\n",
        "  consensusString = ''\n",
        "  tot_cnt = 0\n",
        "  # Column-wise neucleotide Counting. It returns total_mismatch_count from the consensus string.\n",
        "  for i in range(length):\n",
        "    cnt_a=0\n",
        "    cnt_c=0\n",
        "    cnt_g=0\n",
        "    cnt_t=0\n",
        "    for j in range(koyta):\n",
        "      if arr[j][i]=='A' :\n",
        "        cnt_a += 1\n",
        "      if arr[j][i]=='C' :\n",
        "        cnt_c += 1\n",
        "      if arr[j][i]=='G' :\n",
        "        cnt_g += 1\n",
        "      if arr[j][i]=='T' :\n",
        "        cnt_t += 1\n",
        "    mx = findMax(cnt_a, cnt_c, cnt_g, cnt_t)\n",
        "    consensusString += mx\n",
        "    cnt = 0\n",
        "    for j in range(koyta):\n",
        "      if consensusString[i] != arr[j][i]:\n",
        "        cnt += 1\n",
        "    tot_cnt += cnt\n",
        "  return tot_cnt\n",
        "\n",
        "def formProfile(x): # x is the number of strings(from Motif_array) to be calculated.\n",
        "  global Motif_array,k\n",
        "  p = [ [ 0.0 for i in range(k) ] for j in range(4) ]  # 4*k size er 2D array\n",
        "  for i in range(k):\n",
        "    cnt_a=0.1\n",
        "    cnt_c=0.1\n",
        "    cnt_g=0.1\n",
        "    cnt_t=0.1\n",
        "    for j in range(x):\n",
        "      if Motif_array[j][i]=='A' :\n",
        "        cnt_a += 1\n",
        "      if Motif_array[j][i]=='C' :\n",
        "        cnt_c += 1\n",
        "      if Motif_array[j][i]=='G' :\n",
        "        cnt_g += 1\n",
        "      if Motif_array[j][i]=='T' :\n",
        "        cnt_t += 1\n",
        "    #print(cnt_a , cnt_c , cnt_g ,cnt_t )\n",
        "    p[0][i] = cnt_a/x\n",
        "    p[1][i] = cnt_c/x\n",
        "    p[2][i] = cnt_g/x\n",
        "    p[3][i] = cnt_t/x\n",
        "  return p\n",
        "\n",
        "for idx in range( len(Dna[0])-k+1):\n",
        "  Motif = Dna[0][idx:idx+k]\n",
        "  Motif_array[0] = Motif\n",
        "  for i in range(1,t): # loop through all the strings from Dna\n",
        "    profile = formProfile(i) # form a Profile using i row from Motif-array\n",
        "    _, Motif_array[i] = findKmer(Dna[i], k, profile)  # Then use the Profile to findout the next item of Motif_array\n",
        "  if Score(Motif_array) < Score(BestMotifs): # swap if Score is less than the Current set of BestMotifs\n",
        "    for ii in range(t):\n",
        "      BestMotifs[ii] = Motif_array[ii]\n",
        "\n",
        "print('The Best motifs are : ')\n",
        "print(BestMotifs)\n",
        "print('The minimum score is ', Score(BestMotifs))"
      ],
      "execution_count": null,
      "outputs": [
        {
          "output_type": "stream",
          "text": [
            "The Best motifs are : \n",
            "['TTC', 'ATC', 'TTC', 'ATC', 'TTC']\n",
            "The minimum score is  2\n"
          ],
          "name": "stdout"
        }
      ]
    },
    {
      "cell_type": "markdown",
      "metadata": {
        "id": "JITxxCHJPWQo"
      },
      "source": [
        "2E.\tImplement GreedyMotifSearch with Pseudocounts "
      ]
    },
    {
      "cell_type": "code",
      "metadata": {
        "colab": {
          "base_uri": "https://localhost:8080/"
        },
        "id": "HFelaDiEQLEx",
        "outputId": "ef736c90-1ca1-43f5-e53f-8dfc15a4b8d2"
      },
      "source": [
        "'''\n",
        "k = int(input('Length of the k-mers '))\n",
        "t = int(input('Number of DNA string '))\n",
        "\n",
        "Dna = []\n",
        "BestMotifs = []\n",
        "for i in range(t):\n",
        "  s = input()\n",
        "  Dna.append(s)\n",
        "  BestMotifs.append(s[:k])\n",
        "\n",
        "'''\n",
        "# This CodeBlock will use findkmer() & calculate() from above block.\n",
        "\n",
        "k = 3\n",
        "t = 5\n",
        "Dna = [ 'GGCGTTCAGGCA', 'AAGAATCAGTCA', 'CAAGGAGTTCGC', 'CACGTCAATCAC', 'CAATAATATTCG']\n",
        "BestMotifs = [ 'GGC', 'AAG', 'CAA', 'CAC', 'CAA']\n",
        "\n",
        "Motif_array =  [ '' for i in range(t) ]\n",
        "\n",
        " # Just compares the count of A, T, G, C. And returns whose count is maximum.\n",
        "def findMax(ca,cc,cg,ct): \n",
        "  mx = max( max(ca,cc), max(cg,ct) )\n",
        "  if mx==ca:\n",
        "    return 'A'\n",
        "  if mx==cc:\n",
        "    return 'C'\n",
        "  if mx==cg:\n",
        "    return 'G'\n",
        "  if mx==ct:\n",
        "    return 'T'\n",
        "\n",
        "# arr is t*k size er 2D array.\n",
        "def Score(arr):\n",
        "  length = len(Motif_array[0])\n",
        "  koyta = len(arr)\n",
        "  consensusString = ''\n",
        "  tot_cnt = 0\n",
        "  # Column-wise neucleotide Counting. It returns total_mismatch_count from the consensus string.\n",
        "  for i in range(length):\n",
        "    cnt_a=0\n",
        "    cnt_c=0\n",
        "    cnt_g=0\n",
        "    cnt_t=0\n",
        "    for j in range(koyta):\n",
        "      if arr[j][i]=='A' :\n",
        "        cnt_a += 1\n",
        "      if arr[j][i]=='C' :\n",
        "        cnt_c += 1\n",
        "      if arr[j][i]=='G' :\n",
        "        cnt_g += 1\n",
        "      if arr[j][i]=='T' :\n",
        "        cnt_t += 1\n",
        "    mx = findMax(cnt_a, cnt_c, cnt_g, cnt_t)\n",
        "    consensusString += mx\n",
        "    cnt = 0\n",
        "    for j in range(koyta):\n",
        "      if consensusString[i] != arr[j][i]:\n",
        "        cnt += 1\n",
        "    tot_cnt += cnt\n",
        "  return tot_cnt\n",
        "\n",
        "def formProfile(x): # x is the number of strings(from Motif_array) to be calculated.\n",
        "  global Motif_array,k\n",
        "  p = [ [ 0.0 for i in range(k) ] for j in range(4) ]  # 4*k size er 2D array\n",
        "  for i in range(k):\n",
        "    cnt_a=0.1\n",
        "    cnt_c=0.1\n",
        "    cnt_g=0.1\n",
        "    cnt_t=0.1\n",
        "    for j in range(x):\n",
        "      if Motif_array[j][i]=='A' :\n",
        "        cnt_a += 1\n",
        "      if Motif_array[j][i]=='C' :\n",
        "        cnt_c += 1\n",
        "      if Motif_array[j][i]=='G' :\n",
        "        cnt_g += 1\n",
        "      if Motif_array[j][i]=='T' :\n",
        "        cnt_t += 1\n",
        "    #print(cnt_a , cnt_c , cnt_g ,cnt_t )\n",
        "    p[0][i] = cnt_a/x\n",
        "    p[1][i] = cnt_c/x\n",
        "    p[2][i] = cnt_g/x\n",
        "    p[3][i] = cnt_t/x\n",
        "  return p\n",
        "\n",
        "for idx in range( len(Dna[0])-k+1):\n",
        "  Motif = Dna[0][idx:idx+k]\n",
        "  Motif_array[0] = Motif\n",
        "  for i in range(1,t): # loop through all the strings from Dna\n",
        "    profile = formProfile(i) # form a Profile using i row from Motif-array\n",
        "    _, Motif_array[i] = findKmer(Dna[i], k, profile)  # Then use the Profile to findout the next item of Motif_array\n",
        "  if Score(Motif_array) < Score(BestMotifs): # swap if Score is less than the Current set of BestMotifs\n",
        "    for ii in range(t):\n",
        "      BestMotifs[ii] = Motif_array[ii]\n",
        "\n",
        "print('The Best motifs are : ')\n",
        "print(BestMotifs)\n",
        "print('The minimum score is ', Score(BestMotifs))"
      ],
      "execution_count": null,
      "outputs": [
        {
          "output_type": "stream",
          "text": [
            "The Best motifs are : \n",
            "['TTC', 'ATC', 'TTC', 'ATC', 'TTC']\n",
            "The minimum score is  2\n"
          ],
          "name": "stdout"
        }
      ]
    },
    {
      "cell_type": "markdown",
      "metadata": {
        "id": "y5cML2vjPZuz"
      },
      "source": [
        "2F.\tImplement RandomizedMotifSearch "
      ]
    },
    {
      "cell_type": "code",
      "metadata": {
        "id": "ZxKfX-ZKRqJs"
      },
      "source": [
        "import random\n",
        "\n",
        "def score(motifs):\n",
        "  total = 0\n",
        "  for i in range(len(motifs[0])):\n",
        "    A = 0\n",
        "    T = 0\n",
        "    G = 0\n",
        "    C = 0\n",
        "    for each in motifs:\n",
        "      if len(each) != 0:\n",
        "        if each[i] == 'A':\n",
        "          A += 1\n",
        "        if each[i] == 'T':\n",
        "          T += 1\n",
        "        if each[i] == 'G':\n",
        "          G += 1\n",
        "        if each[i] == 'C':\n",
        "          C += 1\n",
        "    last = total\n",
        "    total += (A + T + G + C) - max(A, T, G, C)\n",
        "  return total\n",
        "  \n",
        "def probablility(st, pro):\n",
        "  p = 1.0;\n",
        "  for i in range(len(st)):\n",
        "    if(st[i] == 'A'):\n",
        "      p *= pro[0][i]\n",
        "    if(st[i] == 'T'):\n",
        "      p *= pro[1][i]\n",
        "    if(st[i] == 'G'):\n",
        "      p *= pro[2][i]\n",
        "    if(st[i] == 'C'):\n",
        "      p *= pro[3][i]\n",
        "  return p\n",
        " \n",
        "# Find the k-length substring from string s , whose probability is maximum with the profile 'pro'.\n",
        "def probable_kmer(s, k, pro):\n",
        "  ans = -1.0\n",
        "  mer = \"\"\n",
        "  for i in range(len(s) - k + 1):\n",
        "    curr = s[i : i + k]\n",
        "    if probablility(curr, pro) > ans:\n",
        "      ans = probablility(curr, pro)\n",
        "      mer = curr\n",
        "  return mer\n",
        "\n",
        " \n",
        " \n",
        "# Construct a profile from randomly selected motifs.\n",
        "def construct(temp):\n",
        "  matrix = []  # will be a 4*k size er 2D array.\n",
        "  for x in range(4):\n",
        "    mat = []\n",
        "    for y in range(k):\n",
        "      mat.append(0)\n",
        "    matrix.append(mat)\n",
        "  for j in range(k):\n",
        "    A = 0.1\n",
        "    T = 0.1\n",
        "    C = 0.1\n",
        "    G = 0.1\n",
        "    for each in temp:\n",
        "      if each[j] == 'A':\n",
        "        A += 1\n",
        "      if each[j] == 'T':\n",
        "        T += 1\n",
        "      if each[j] == 'G':\n",
        "        G += 1\n",
        "      if each[j] == 'C':\n",
        "        C += 1\n",
        "    matrix[0][j] = float(A) / float(len(temp))\n",
        "    matrix[1][j] = float(T) / float(len(temp))\n",
        "    matrix[2][j] = float(G) / float(len(temp))\n",
        "    matrix[3][j] = float(C) / float(len(temp))\n",
        "  return matrix\n",
        " \n",
        "# DNA is a t*len(dna[0]) sized 2D array .\n",
        "def randomizedMotifSearch(dna, k, t):\n",
        "  motifs = []\n",
        "  # randomly choose k-length substrings from dna.\n",
        "  for each in dna: \n",
        "    rg = random.randrange(0, len(dna[0]) - k + 1)\n",
        "    motifs.append(each[rg : rg + k]) \n",
        "  best = motifs\n",
        "  while True:\n",
        "    profile = construct(motifs)\n",
        "    idx = 0\n",
        "    for each in dna:\n",
        "      pf = probable_kmer(each, k, profile)\n",
        "      motifs[idx] = pf\n",
        "      idx += 1\n",
        "    if score(motifs) < score(best):\n",
        "      best = motifs\n",
        "    else:\n",
        "      return best\n",
        "\n",
        "# Algorithm : starts with randomly chosen t kmers.\n",
        "# Then in each full iteration.. select string of Dna, find out the probable kmer under the current profile\n",
        "# And choose the best(minimum scored) motifs-set"
      ],
      "execution_count": null,
      "outputs": []
    },
    {
      "cell_type": "code",
      "metadata": {
        "colab": {
          "base_uri": "https://localhost:8080/"
        },
        "id": "4Lenyn7WRsGe",
        "outputId": "54abf84f-168e-447a-d06b-ad3bfb58f6fe"
      },
      "source": [
        "k= 8 \n",
        "t = 5\n",
        "dna = ['CGCCCCTCTCGGGGGTGTTCAGTAAACGGCCA',\n",
        "'GGGCGAGGTATGTGTAAGTGCCAAGGTGCCAG',\n",
        "'TAGTACCGAGACCGAAAGAAGTATACAGGCGT',\n",
        "'TAGATCAAGTTTCAGGTGCACGTCGGTGAACC',\n",
        "'AATCCACCAGCTCCACGTGCAATGTTGGCCTA']\n",
        "\n",
        "ans = []\n",
        "for i in range(1000):\n",
        "  if i == 0:\n",
        "    ans = randomizedMotifSearch(dna, k, t)\n",
        "  else:\n",
        "    temp = randomizedMotifSearch(dna, k, t)\n",
        "    if score(temp) < score(ans):\n",
        "      ans = temp\n",
        "\n",
        "print(score(ans))\n",
        "for each in ans:\n",
        "  print(each)"
      ],
      "execution_count": null,
      "outputs": [
        {
          "output_type": "stream",
          "text": [
            "10\n",
            "TTCAGTAA\n",
            "TGTAAGTG\n",
            "TACAGGCG\n",
            "TTCAGGTG\n",
            "TCCACGTG\n"
          ],
          "name": "stdout"
        }
      ]
    },
    {
      "cell_type": "markdown",
      "metadata": {
        "id": "w8xR7MIWPdIE"
      },
      "source": [
        "2G.\tImplement GibbsSampler "
      ]
    },
    {
      "cell_type": "code",
      "metadata": {
        "id": "8EuutZHLRwZF"
      },
      "source": [
        "# Score(), Probability(), probable_kmer(), construct() functions are required from the above problem.\n",
        "\n",
        "def gibbsSampler(dna, k, t, N):\n",
        "  motifs = []\n",
        "  for each in dna:\n",
        "    rg = random.randrange(0, len(dna[0]) - k + 1)\n",
        "    motifs.append(each[rg : rg + k])\n",
        "  best = motifs\n",
        "  print(score(best))\n",
        "  for outer in range(N):\n",
        "    rg = random.randrange(0, t) # select a random string form Dna.\n",
        "    motifs_ex = []\n",
        "    for i in range(t):\n",
        "      if i != rg:\n",
        "        motifs_ex.append(motifs[i])\n",
        "    profile = construct(motifs_ex)\n",
        "    mer = probable_kmer(dna[rg], k, profile)\n",
        "    motifs[rg] = mer\n",
        "    scoreOfMotifs = score(motifs)\n",
        "    scoreOfBest = score(best)\n",
        "    #print(scoreOfMotifs, scoreOfBest, motifs)\n",
        "    if scoreOfMotifs < scoreOfBest:\n",
        "      best = motifs\n",
        "  return best\n",
        "\n",
        "k= 8 \n",
        "t = 5\n",
        "dna = ['CGCCCCTCTCGGGGGTGTTCAGTAAACGGCCA',\n",
        "'GGGCGAGGTATGTGTAAGTGCCAAGGTGCCAG',\n",
        "'TAGTACCGAGACCGAAAGAAGTATACAGGCGT',\n",
        "'TAGATCAAGTTTCAGGTGCACGTCGGTGAACC',\n",
        "'AATCCACCAGCTCCACGTGCAATGTTGGCCTA']\n",
        "N = 100\n",
        "\n",
        "ans = gibbsSampler(dna, k, t, N)\n",
        "\n",
        "for each in ans:\n",
        "  print(each)"
      ],
      "execution_count": null,
      "outputs": []
    },
    {
      "cell_type": "markdown",
      "metadata": {
        "id": "T1Jh7NFpPhEz"
      },
      "source": [
        "2H.\tImplement DistanceBetweenPatternAndStrings "
      ]
    },
    {
      "cell_type": "code",
      "metadata": {
        "colab": {
          "base_uri": "https://localhost:8080/"
        },
        "id": "0wHMpakhgQ67",
        "outputId": "0f0831a3-0c6d-40cb-82e3-2ca7e99f0cf8"
      },
      "source": [
        "def Distance(p,s):\n",
        "  n = len(p)\n",
        "  d = 0\n",
        "  for i in range(n):\n",
        "    if p[i] != s[i]:\n",
        "      d += 1\n",
        "  return d\n",
        "\n",
        "strings = ['TTACCTTAAC', 'GATATCTGTC', 'ACGGCGTTCG', 'CCCTAAAGAG', 'CGTCAGAGGT']\n",
        "pattern = 'AAA'\n",
        "k = len(pattern)\n",
        "\n",
        "def compare(id,pattern):\n",
        "  ret = 1000000\n",
        "  st = strings[id]\n",
        "  for i in range(len(st) - k+1):\n",
        "    s = st[i:]\n",
        "    s = s[:k]\n",
        "    ret = min(ret, Distance(pattern, s) )\n",
        "  return ret\n",
        "\n",
        "\n",
        "minimumHammingDistance = 10000000\n",
        "totalHammingDistance = 0\n",
        "\n",
        "for i in range(len(strings)):\n",
        "  xx = compare(i,pattern)\n",
        "  totalHammingDistance += xx\n",
        "\n",
        "print(totalHammingDistance)"
      ],
      "execution_count": null,
      "outputs": [
        {
          "output_type": "stream",
          "text": [
            "5\n"
          ],
          "name": "stdout"
        }
      ]
    }
  ]
}